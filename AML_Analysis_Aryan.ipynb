{
 "cells": [
  {
   "cell_type": "markdown",
   "metadata": {
    "id": "KQPIow44ac0g"
   },
   "source": [
    "\n",
    "\n",
    "\n",
    "\n",
    "\n",
    "\n",
    "**Transaction Monitoring**\n",
    "\n",
    "> Building a model based on a dataset of transactions on wheather the transaction is a case of Money Laundaring.\n",
    ">This is the Final Code that will be running through out the system "
   ]
  },
  {
   "cell_type": "markdown",
   "metadata": {
    "id": "BTLzbsXbho4K"
   },
   "source": [
    "## **Explaratory Data Analysis**"
   ]
  },
  {
   "cell_type": "code",
   "execution_count": null,
   "metadata": {
    "id": "cavRc1U4aL_j"
   },
   "outputs": [],
   "source": [
    "# Importing Libraries\n",
    "import pandas as pd\n",
    "import numpy as np\n",
    "import matplotlib.pyplot as plt\n",
    "import seaborn as sns\n",
    "from sklearn import metrics\n",
    "from sklearn.metrics import accuracy_score, f1_score\n",
    "from sklearn.metrics import f1_score,confusion_matrix\n",
    "from sklearn.model_selection import train_test_split\n",
    "import scipy.stats as st\n",
    "from sklearn import ensemble, tree, linear_model"
   ]
  },
  {
   "cell_type": "code",
   "execution_count": null,
   "metadata": {
    "colab": {
     "base_uri": "https://localhost:8080/",
     "height": 419
    },
    "id": "ACN61nupb1Ry",
    "outputId": "5e56b677-c4dc-45c1-ce4b-4b4925efe99b"
   },
   "outputs": [
    {
     "data": {
      "text/html": [
       "<div>\n",
       "<style scoped>\n",
       "    .dataframe tbody tr th:only-of-type {\n",
       "        vertical-align: middle;\n",
       "    }\n",
       "\n",
       "    .dataframe tbody tr th {\n",
       "        vertical-align: top;\n",
       "    }\n",
       "\n",
       "    .dataframe thead th {\n",
       "        text-align: right;\n",
       "    }\n",
       "</style>\n",
       "<table border=\"1\" class=\"dataframe\">\n",
       "  <thead>\n",
       "    <tr style=\"text-align: right;\">\n",
       "      <th></th>\n",
       "      <th>step</th>\n",
       "      <th>type</th>\n",
       "      <th>amount</th>\n",
       "      <th>nameOrig</th>\n",
       "      <th>oldbalanceOrg</th>\n",
       "      <th>newbalanceOrig</th>\n",
       "      <th>nameDest</th>\n",
       "      <th>oldbalanceDest</th>\n",
       "      <th>newbalanceDest</th>\n",
       "      <th>isFraud</th>\n",
       "      <th>isFlaggedFraud</th>\n",
       "    </tr>\n",
       "  </thead>\n",
       "  <tbody>\n",
       "    <tr>\n",
       "      <th>0</th>\n",
       "      <td>1</td>\n",
       "      <td>PAYMENT</td>\n",
       "      <td>9839.64</td>\n",
       "      <td>C1231006815</td>\n",
       "      <td>170136.00</td>\n",
       "      <td>160296.36</td>\n",
       "      <td>M1979787155</td>\n",
       "      <td>0.00</td>\n",
       "      <td>0.00</td>\n",
       "      <td>0</td>\n",
       "      <td>0</td>\n",
       "    </tr>\n",
       "    <tr>\n",
       "      <th>1</th>\n",
       "      <td>1</td>\n",
       "      <td>PAYMENT</td>\n",
       "      <td>1864.28</td>\n",
       "      <td>C1666544295</td>\n",
       "      <td>21249.00</td>\n",
       "      <td>19384.72</td>\n",
       "      <td>M2044282225</td>\n",
       "      <td>0.00</td>\n",
       "      <td>0.00</td>\n",
       "      <td>0</td>\n",
       "      <td>0</td>\n",
       "    </tr>\n",
       "    <tr>\n",
       "      <th>2</th>\n",
       "      <td>1</td>\n",
       "      <td>TRANSFER</td>\n",
       "      <td>181.00</td>\n",
       "      <td>C1305486145</td>\n",
       "      <td>181.00</td>\n",
       "      <td>0.00</td>\n",
       "      <td>C553264065</td>\n",
       "      <td>0.00</td>\n",
       "      <td>0.00</td>\n",
       "      <td>1</td>\n",
       "      <td>0</td>\n",
       "    </tr>\n",
       "    <tr>\n",
       "      <th>3</th>\n",
       "      <td>1</td>\n",
       "      <td>CASH_OUT</td>\n",
       "      <td>181.00</td>\n",
       "      <td>C840083671</td>\n",
       "      <td>181.00</td>\n",
       "      <td>0.00</td>\n",
       "      <td>C38997010</td>\n",
       "      <td>21182.00</td>\n",
       "      <td>0.00</td>\n",
       "      <td>1</td>\n",
       "      <td>0</td>\n",
       "    </tr>\n",
       "    <tr>\n",
       "      <th>4</th>\n",
       "      <td>1</td>\n",
       "      <td>PAYMENT</td>\n",
       "      <td>11668.14</td>\n",
       "      <td>C2048537720</td>\n",
       "      <td>41554.00</td>\n",
       "      <td>29885.86</td>\n",
       "      <td>M1230701703</td>\n",
       "      <td>0.00</td>\n",
       "      <td>0.00</td>\n",
       "      <td>0</td>\n",
       "      <td>0</td>\n",
       "    </tr>\n",
       "    <tr>\n",
       "      <th>...</th>\n",
       "      <td>...</td>\n",
       "      <td>...</td>\n",
       "      <td>...</td>\n",
       "      <td>...</td>\n",
       "      <td>...</td>\n",
       "      <td>...</td>\n",
       "      <td>...</td>\n",
       "      <td>...</td>\n",
       "      <td>...</td>\n",
       "      <td>...</td>\n",
       "      <td>...</td>\n",
       "    </tr>\n",
       "    <tr>\n",
       "      <th>50421</th>\n",
       "      <td>9</td>\n",
       "      <td>PAYMENT</td>\n",
       "      <td>11141.77</td>\n",
       "      <td>C1387840921</td>\n",
       "      <td>288064.39</td>\n",
       "      <td>276922.63</td>\n",
       "      <td>M191065722</td>\n",
       "      <td>0.00</td>\n",
       "      <td>0.00</td>\n",
       "      <td>0</td>\n",
       "      <td>0</td>\n",
       "    </tr>\n",
       "    <tr>\n",
       "      <th>50422</th>\n",
       "      <td>9</td>\n",
       "      <td>CASH_OUT</td>\n",
       "      <td>346321.39</td>\n",
       "      <td>C1694240929</td>\n",
       "      <td>276922.63</td>\n",
       "      <td>0.00</td>\n",
       "      <td>C1948471365</td>\n",
       "      <td>5516663.89</td>\n",
       "      <td>6847755.96</td>\n",
       "      <td>0</td>\n",
       "      <td>0</td>\n",
       "    </tr>\n",
       "    <tr>\n",
       "      <th>50423</th>\n",
       "      <td>9</td>\n",
       "      <td>CASH_OUT</td>\n",
       "      <td>334943.53</td>\n",
       "      <td>C1628781423</td>\n",
       "      <td>124.00</td>\n",
       "      <td>0.00</td>\n",
       "      <td>C1284792861</td>\n",
       "      <td>0.00</td>\n",
       "      <td>751505.60</td>\n",
       "      <td>0</td>\n",
       "      <td>0</td>\n",
       "    </tr>\n",
       "    <tr>\n",
       "      <th>50424</th>\n",
       "      <td>9</td>\n",
       "      <td>PAYMENT</td>\n",
       "      <td>42299.14</td>\n",
       "      <td>C1964355289</td>\n",
       "      <td>2375843.75</td>\n",
       "      <td>2333544.61</td>\n",
       "      <td>M1704271551</td>\n",
       "      <td>0.00</td>\n",
       "      <td>0.00</td>\n",
       "      <td>0</td>\n",
       "      <td>0</td>\n",
       "    </tr>\n",
       "    <tr>\n",
       "      <th>50425</th>\n",
       "      <td>9</td>\n",
       "      <td>PAYMENT</td>\n",
       "      <td>13263.11</td>\n",
       "      <td>C1642623924</td>\n",
       "      <td>2333544.61</td>\n",
       "      <td>2320281.50</td>\n",
       "      <td>M703525541</td>\n",
       "      <td>0.00</td>\n",
       "      <td>0.00</td>\n",
       "      <td>0</td>\n",
       "      <td>0</td>\n",
       "    </tr>\n",
       "  </tbody>\n",
       "</table>\n",
       "<p>50426 rows × 11 columns</p>\n",
       "</div>"
      ],
      "text/plain": [
       "       step      type     amount  ... newbalanceDest  isFraud  isFlaggedFraud\n",
       "0         1   PAYMENT    9839.64  ...           0.00        0               0\n",
       "1         1   PAYMENT    1864.28  ...           0.00        0               0\n",
       "2         1  TRANSFER     181.00  ...           0.00        1               0\n",
       "3         1  CASH_OUT     181.00  ...           0.00        1               0\n",
       "4         1   PAYMENT   11668.14  ...           0.00        0               0\n",
       "...     ...       ...        ...  ...            ...      ...             ...\n",
       "50421     9   PAYMENT   11141.77  ...           0.00        0               0\n",
       "50422     9  CASH_OUT  346321.39  ...     6847755.96        0               0\n",
       "50423     9  CASH_OUT  334943.53  ...      751505.60        0               0\n",
       "50424     9   PAYMENT   42299.14  ...           0.00        0               0\n",
       "50425     9   PAYMENT   13263.11  ...           0.00        0               0\n",
       "\n",
       "[50426 rows x 11 columns]"
      ]
     },
     "execution_count": 20,
     "metadata": {
      "tags": []
     },
     "output_type": "execute_result"
    }
   ],
   "source": [
    "#DISPLAYING OUT DATASET\n",
    "df = pd.read_csv('/Book1.csv')\n",
    "df"
   ]
  },
  {
   "cell_type": "code",
   "execution_count": null,
   "metadata": {
    "colab": {
     "base_uri": "https://localhost:8080/",
     "height": 297
    },
    "id": "LNuXyA9V1xZX",
    "outputId": "925fa17c-bfee-49aa-e76f-4ae7cf2c0cd1"
   },
   "outputs": [
    {
     "data": {
      "text/html": [
       "<div>\n",
       "<style scoped>\n",
       "    .dataframe tbody tr th:only-of-type {\n",
       "        vertical-align: middle;\n",
       "    }\n",
       "\n",
       "    .dataframe tbody tr th {\n",
       "        vertical-align: top;\n",
       "    }\n",
       "\n",
       "    .dataframe thead th {\n",
       "        text-align: right;\n",
       "    }\n",
       "</style>\n",
       "<table border=\"1\" class=\"dataframe\">\n",
       "  <thead>\n",
       "    <tr style=\"text-align: right;\">\n",
       "      <th></th>\n",
       "      <th>step</th>\n",
       "      <th>amount</th>\n",
       "      <th>oldbalanceOrg</th>\n",
       "      <th>newbalanceOrig</th>\n",
       "      <th>oldbalanceDest</th>\n",
       "      <th>newbalanceDest</th>\n",
       "      <th>isFraud</th>\n",
       "      <th>isFlaggedFraud</th>\n",
       "    </tr>\n",
       "  </thead>\n",
       "  <tbody>\n",
       "    <tr>\n",
       "      <th>count</th>\n",
       "      <td>50426.000000</td>\n",
       "      <td>5.042600e+04</td>\n",
       "      <td>5.042600e+04</td>\n",
       "      <td>5.042600e+04</td>\n",
       "      <td>5.042600e+04</td>\n",
       "      <td>5.042600e+04</td>\n",
       "      <td>50426.000000</td>\n",
       "      <td>50426.0</td>\n",
       "    </tr>\n",
       "    <tr>\n",
       "      <th>mean</th>\n",
       "      <td>7.466862</td>\n",
       "      <td>1.566697e+05</td>\n",
       "      <td>7.302547e+05</td>\n",
       "      <td>7.442820e+05</td>\n",
       "      <td>8.434186e+05</td>\n",
       "      <td>1.164465e+06</td>\n",
       "      <td>0.001983</td>\n",
       "      <td>0.0</td>\n",
       "    </tr>\n",
       "    <tr>\n",
       "      <th>std</th>\n",
       "      <td>2.052813</td>\n",
       "      <td>3.257933e+05</td>\n",
       "      <td>2.194431e+06</td>\n",
       "      <td>2.231945e+06</td>\n",
       "      <td>2.430116e+06</td>\n",
       "      <td>2.912477e+06</td>\n",
       "      <td>0.044488</td>\n",
       "      <td>0.0</td>\n",
       "    </tr>\n",
       "    <tr>\n",
       "      <th>min</th>\n",
       "      <td>1.000000</td>\n",
       "      <td>6.300000e-01</td>\n",
       "      <td>0.000000e+00</td>\n",
       "      <td>0.000000e+00</td>\n",
       "      <td>0.000000e+00</td>\n",
       "      <td>0.000000e+00</td>\n",
       "      <td>0.000000</td>\n",
       "      <td>0.0</td>\n",
       "    </tr>\n",
       "    <tr>\n",
       "      <th>25%</th>\n",
       "      <td>7.000000</td>\n",
       "      <td>7.780685e+03</td>\n",
       "      <td>0.000000e+00</td>\n",
       "      <td>0.000000e+00</td>\n",
       "      <td>0.000000e+00</td>\n",
       "      <td>0.000000e+00</td>\n",
       "      <td>0.000000</td>\n",
       "      <td>0.0</td>\n",
       "    </tr>\n",
       "    <tr>\n",
       "      <th>50%</th>\n",
       "      <td>8.000000</td>\n",
       "      <td>3.377712e+04</td>\n",
       "      <td>1.715084e+04</td>\n",
       "      <td>0.000000e+00</td>\n",
       "      <td>2.556870e+03</td>\n",
       "      <td>0.000000e+00</td>\n",
       "      <td>0.000000</td>\n",
       "      <td>0.0</td>\n",
       "    </tr>\n",
       "    <tr>\n",
       "      <th>75%</th>\n",
       "      <td>9.000000</td>\n",
       "      <td>1.881848e+05</td>\n",
       "      <td>1.340655e+05</td>\n",
       "      <td>1.450010e+05</td>\n",
       "      <td>4.631355e+05</td>\n",
       "      <td>8.674971e+05</td>\n",
       "      <td>0.000000</td>\n",
       "      <td>0.0</td>\n",
       "    </tr>\n",
       "    <tr>\n",
       "      <th>max</th>\n",
       "      <td>9.000000</td>\n",
       "      <td>1.000000e+07</td>\n",
       "      <td>2.850000e+07</td>\n",
       "      <td>2.860000e+07</td>\n",
       "      <td>3.010000e+07</td>\n",
       "      <td>3.200000e+07</td>\n",
       "      <td>1.000000</td>\n",
       "      <td>0.0</td>\n",
       "    </tr>\n",
       "  </tbody>\n",
       "</table>\n",
       "</div>"
      ],
      "text/plain": [
       "               step        amount  ...       isFraud  isFlaggedFraud\n",
       "count  50426.000000  5.042600e+04  ...  50426.000000         50426.0\n",
       "mean       7.466862  1.566697e+05  ...      0.001983             0.0\n",
       "std        2.052813  3.257933e+05  ...      0.044488             0.0\n",
       "min        1.000000  6.300000e-01  ...      0.000000             0.0\n",
       "25%        7.000000  7.780685e+03  ...      0.000000             0.0\n",
       "50%        8.000000  3.377712e+04  ...      0.000000             0.0\n",
       "75%        9.000000  1.881848e+05  ...      0.000000             0.0\n",
       "max        9.000000  1.000000e+07  ...      1.000000             0.0\n",
       "\n",
       "[8 rows x 8 columns]"
      ]
     },
     "execution_count": 5,
     "metadata": {
      "tags": []
     },
     "output_type": "execute_result"
    }
   ],
   "source": [
    "#CHECKING THE CONTENTS OF THE DATASET \n",
    "df.describe()"
   ]
  },
  {
   "cell_type": "markdown",
   "metadata": {
    "id": "pdQqWiNjAxa5"
   },
   "source": [
    "THE TYPE OF TRANSACTIONS THAT WOULD BE MADE ARE MENTIONED BELOW"
   ]
  },
  {
   "cell_type": "code",
   "execution_count": null,
   "metadata": {
    "colab": {
     "base_uri": "https://localhost:8080/",
     "height": 51
    },
    "id": "X-N7AQRsh7j4",
    "outputId": "b7c08fba-a761-41bd-8cff-69f09a5947bc"
   },
   "outputs": [
    {
     "data": {
      "text/plain": [
       "array(['PAYMENT', 'TRANSFER', 'CASH_OUT', 'DEBIT', 'CASH_IN'],\n",
       "      dtype=object)"
      ]
     },
     "execution_count": 8,
     "metadata": {
      "tags": []
     },
     "output_type": "execute_result"
    }
   ],
   "source": [
    "df['type'].unique()"
   ]
  },
  {
   "cell_type": "code",
   "execution_count": null,
   "metadata": {
    "id": "rRBo9kfT1_wo"
   },
   "outputs": [],
   "source": [
    "#SHUFFING /CLEANING THE DATASET\n",
    "df = df.drop(['isFlaggedFraud','step','nameOrig','nameDest'], axis =1 )\n",
    "from sklearn.utils import shuffle\n",
    "df = shuffle(df)\n",
    "df.head()"
   ]
  },
  {
   "cell_type": "markdown",
   "metadata": {
    "id": "rdcDKj1IcIun"
   },
   "source": [
    "## **Relationship Analysis**"
   ]
  },
  {
   "cell_type": "code",
   "execution_count": null,
   "metadata": {
    "id": "k0JJW53KG8FV"
   },
   "outputs": [],
   "source": [
    "correlation = df.corr()"
   ]
  },
  {
   "cell_type": "code",
   "execution_count": null,
   "metadata": {
    "colab": {
     "base_uri": "https://localhost:8080/",
     "height": 359
    },
    "id": "Y223aOWCG8OT",
    "outputId": "44fa1793-7dd5-4f2c-d829-4b5ff407005a"
   },
   "outputs": [
    {
     "data": {
      "text/plain": [
       "<matplotlib.axes._subplots.AxesSubplot at 0x7fb005bf80f0>"
      ]
     },
     "execution_count": 8,
     "metadata": {
      "tags": []
     },
     "output_type": "execute_result"
    },
    {
     "data": {
      "image/png": "[encoded data removed]",
      "text/plain": [
       "<Figure size 432x288 with 2 Axes>"
      ]
     },
     "metadata": {
      "needs_background": "light",
      "tags": []
     },
     "output_type": "display_data"
    }
   ],
   "source": [
    "sns.heatmap(correlation, xticklabels = correlation.columns,\n",
    "                    yticklabels = correlation.columns,\n",
    "            annot = True )"
   ]
  },
  {
   "cell_type": "code",
   "execution_count": null,
   "metadata": {
    "id": "X4xI4lwgG8Ti"
   },
   "outputs": [],
   "source": [
    "#NOT IMPORTANT FOR DISPLAYING \n",
    "#sns.pairplot(df)"
   ]
  },
  {
   "cell_type": "code",
   "execution_count": null,
   "metadata": {
    "id": "AmnKb951aH6j"
   },
   "outputs": [],
   "source": [
    "#CONVERTING THE TYPE PARAMETER INTO THE LABEL ENCODING \n",
    "from sklearn.preprocessing import OneHotEncoder \n",
    "df=pd.get_dummies(df)"
   ]
  },
  {
   "cell_type": "code",
   "execution_count": null,
   "metadata": {
    "colab": {
     "base_uri": "https://localhost:8080/",
     "height": 204
    },
    "id": "9gG4yJYCq6u-",
    "outputId": "51a825a1-ec96-49ba-b9d1-cfe424d27f78"
   },
   "outputs": [
    {
     "data": {
      "text/html": [
       "<div>\n",
       "<style scoped>\n",
       "    .dataframe tbody tr th:only-of-type {\n",
       "        vertical-align: middle;\n",
       "    }\n",
       "\n",
       "    .dataframe tbody tr th {\n",
       "        vertical-align: top;\n",
       "    }\n",
       "\n",
       "    .dataframe thead th {\n",
       "        text-align: right;\n",
       "    }\n",
       "</style>\n",
       "<table border=\"1\" class=\"dataframe\">\n",
       "  <thead>\n",
       "    <tr style=\"text-align: right;\">\n",
       "      <th></th>\n",
       "      <th>amount</th>\n",
       "      <th>oldbalanceOrg</th>\n",
       "      <th>newbalanceOrig</th>\n",
       "      <th>oldbalanceDest</th>\n",
       "      <th>newbalanceDest</th>\n",
       "      <th>isFraud</th>\n",
       "      <th>type_CASH_IN</th>\n",
       "      <th>type_CASH_OUT</th>\n",
       "      <th>type_DEBIT</th>\n",
       "      <th>type_PAYMENT</th>\n",
       "      <th>type_TRANSFER</th>\n",
       "    </tr>\n",
       "  </thead>\n",
       "  <tbody>\n",
       "    <tr>\n",
       "      <th>10845</th>\n",
       "      <td>6086.05</td>\n",
       "      <td>0.00</td>\n",
       "      <td>0.00</td>\n",
       "      <td>0.00</td>\n",
       "      <td>0.00</td>\n",
       "      <td>0</td>\n",
       "      <td>0</td>\n",
       "      <td>0</td>\n",
       "      <td>0</td>\n",
       "      <td>1</td>\n",
       "      <td>0</td>\n",
       "    </tr>\n",
       "    <tr>\n",
       "      <th>3025</th>\n",
       "      <td>11378.85</td>\n",
       "      <td>207181.00</td>\n",
       "      <td>195802.15</td>\n",
       "      <td>0.00</td>\n",
       "      <td>0.00</td>\n",
       "      <td>0</td>\n",
       "      <td>0</td>\n",
       "      <td>0</td>\n",
       "      <td>0</td>\n",
       "      <td>1</td>\n",
       "      <td>0</td>\n",
       "    </tr>\n",
       "    <tr>\n",
       "      <th>9432</th>\n",
       "      <td>504.83</td>\n",
       "      <td>608907.09</td>\n",
       "      <td>608402.27</td>\n",
       "      <td>0.00</td>\n",
       "      <td>0.00</td>\n",
       "      <td>0</td>\n",
       "      <td>0</td>\n",
       "      <td>0</td>\n",
       "      <td>0</td>\n",
       "      <td>1</td>\n",
       "      <td>0</td>\n",
       "    </tr>\n",
       "    <tr>\n",
       "      <th>41649</th>\n",
       "      <td>31404.30</td>\n",
       "      <td>0.00</td>\n",
       "      <td>0.00</td>\n",
       "      <td>0.00</td>\n",
       "      <td>0.00</td>\n",
       "      <td>0</td>\n",
       "      <td>0</td>\n",
       "      <td>0</td>\n",
       "      <td>0</td>\n",
       "      <td>1</td>\n",
       "      <td>0</td>\n",
       "    </tr>\n",
       "    <tr>\n",
       "      <th>42972</th>\n",
       "      <td>64817.29</td>\n",
       "      <td>10987753.09</td>\n",
       "      <td>11052570.38</td>\n",
       "      <td>564787.87</td>\n",
       "      <td>769109.49</td>\n",
       "      <td>0</td>\n",
       "      <td>1</td>\n",
       "      <td>0</td>\n",
       "      <td>0</td>\n",
       "      <td>0</td>\n",
       "      <td>0</td>\n",
       "    </tr>\n",
       "  </tbody>\n",
       "</table>\n",
       "</div>"
      ],
      "text/plain": [
       "         amount  oldbalanceOrg  ...  type_PAYMENT  type_TRANSFER\n",
       "10845   6086.05           0.00  ...             1              0\n",
       "3025   11378.85      207181.00  ...             1              0\n",
       "9432     504.83      608907.09  ...             1              0\n",
       "41649  31404.30           0.00  ...             1              0\n",
       "42972  64817.29    10987753.09  ...             0              0\n",
       "\n",
       "[5 rows x 11 columns]"
      ]
     },
     "execution_count": 13,
     "metadata": {
      "tags": []
     },
     "output_type": "execute_result"
    }
   ],
   "source": [
    "df.head()"
   ]
  },
  {
   "cell_type": "code",
   "execution_count": null,
   "metadata": {
    "id": "sKdk6t3rhVhl"
   },
   "outputs": [],
   "source": [
    "y = df.loc[:,'isFraud']\n",
    "X = df.drop(['isFraud'],axis =1)"
   ]
  },
  {
   "cell_type": "code",
   "execution_count": null,
   "metadata": {
    "id": "Cr_2lpCFaIGh"
   },
   "outputs": [],
   "source": [
    "from sklearn.model_selection import train_test_split\n",
    "X_train,X_test,y_train,y_test=train_test_split(X,y,train_size=0.75,random_state=1231)"
   ]
  },
  {
   "cell_type": "code",
   "execution_count": null,
   "metadata": {
    "colab": {
     "base_uri": "https://localhost:8080/",
     "height": 204
    },
    "id": "V4gO1JSz-nmD",
    "outputId": "ec6c4a2d-461c-4ce0-d91b-118b5aaeb505"
   },
   "outputs": [
    {
     "data": {
      "text/html": [
       "<div>\n",
       "<style scoped>\n",
       "    .dataframe tbody tr th:only-of-type {\n",
       "        vertical-align: middle;\n",
       "    }\n",
       "\n",
       "    .dataframe tbody tr th {\n",
       "        vertical-align: top;\n",
       "    }\n",
       "\n",
       "    .dataframe thead th {\n",
       "        text-align: right;\n",
       "    }\n",
       "</style>\n",
       "<table border=\"1\" class=\"dataframe\">\n",
       "  <thead>\n",
       "    <tr style=\"text-align: right;\">\n",
       "      <th></th>\n",
       "      <th>amount</th>\n",
       "      <th>oldbalanceOrg</th>\n",
       "      <th>newbalanceOrig</th>\n",
       "      <th>oldbalanceDest</th>\n",
       "      <th>newbalanceDest</th>\n",
       "      <th>type_CASH_IN</th>\n",
       "      <th>type_CASH_OUT</th>\n",
       "      <th>type_DEBIT</th>\n",
       "      <th>type_PAYMENT</th>\n",
       "      <th>type_TRANSFER</th>\n",
       "    </tr>\n",
       "  </thead>\n",
       "  <tbody>\n",
       "    <tr>\n",
       "      <th>47428</th>\n",
       "      <td>29869.89</td>\n",
       "      <td>20353.00</td>\n",
       "      <td>0.0</td>\n",
       "      <td>0.00</td>\n",
       "      <td>0.00</td>\n",
       "      <td>0</td>\n",
       "      <td>0</td>\n",
       "      <td>0</td>\n",
       "      <td>1</td>\n",
       "      <td>0</td>\n",
       "    </tr>\n",
       "    <tr>\n",
       "      <th>15828</th>\n",
       "      <td>151250.84</td>\n",
       "      <td>3840.56</td>\n",
       "      <td>0.0</td>\n",
       "      <td>823545.60</td>\n",
       "      <td>951130.52</td>\n",
       "      <td>0</td>\n",
       "      <td>1</td>\n",
       "      <td>0</td>\n",
       "      <td>0</td>\n",
       "      <td>0</td>\n",
       "    </tr>\n",
       "    <tr>\n",
       "      <th>18875</th>\n",
       "      <td>387812.47</td>\n",
       "      <td>0.00</td>\n",
       "      <td>0.0</td>\n",
       "      <td>2989805.85</td>\n",
       "      <td>4605990.97</td>\n",
       "      <td>0</td>\n",
       "      <td>1</td>\n",
       "      <td>0</td>\n",
       "      <td>0</td>\n",
       "      <td>0</td>\n",
       "    </tr>\n",
       "    <tr>\n",
       "      <th>42011</th>\n",
       "      <td>6618.25</td>\n",
       "      <td>0.00</td>\n",
       "      <td>0.0</td>\n",
       "      <td>0.00</td>\n",
       "      <td>0.00</td>\n",
       "      <td>0</td>\n",
       "      <td>0</td>\n",
       "      <td>0</td>\n",
       "      <td>1</td>\n",
       "      <td>0</td>\n",
       "    </tr>\n",
       "    <tr>\n",
       "      <th>47069</th>\n",
       "      <td>6270.41</td>\n",
       "      <td>3851.00</td>\n",
       "      <td>0.0</td>\n",
       "      <td>0.00</td>\n",
       "      <td>0.00</td>\n",
       "      <td>0</td>\n",
       "      <td>0</td>\n",
       "      <td>0</td>\n",
       "      <td>1</td>\n",
       "      <td>0</td>\n",
       "    </tr>\n",
       "  </tbody>\n",
       "</table>\n",
       "</div>"
      ],
      "text/plain": [
       "          amount  oldbalanceOrg  ...  type_PAYMENT  type_TRANSFER\n",
       "47428   29869.89       20353.00  ...             1              0\n",
       "15828  151250.84        3840.56  ...             0              0\n",
       "18875  387812.47           0.00  ...             0              0\n",
       "42011    6618.25           0.00  ...             1              0\n",
       "47069    6270.41        3851.00  ...             1              0\n",
       "\n",
       "[5 rows x 10 columns]"
      ]
     },
     "execution_count": 16,
     "metadata": {
      "tags": []
     },
     "output_type": "execute_result"
    }
   ],
   "source": [
    "X_train.head()"
   ]
  },
  {
   "cell_type": "code",
   "execution_count": null,
   "metadata": {
    "colab": {
     "base_uri": "https://localhost:8080/",
     "height": 119
    },
    "id": "Acl5JsYKhcNo",
    "outputId": "b63169f1-e076-43e7-f789-2693155142f5"
   },
   "outputs": [
    {
     "data": {
      "text/plain": [
       "47428    0\n",
       "15828    0\n",
       "18875    0\n",
       "42011    0\n",
       "47069    0\n",
       "Name: isFraud, dtype: int64"
      ]
     },
     "execution_count": 17,
     "metadata": {
      "tags": []
     },
     "output_type": "execute_result"
    }
   ],
   "source": [
    "y_train.head()"
   ]
  },
  {
   "cell_type": "markdown",
   "metadata": {
    "id": "LnGQUUPFbG1z"
   },
   "source": [
    "**Training The Model**\n",
    "\n",
    "BELOW IS THE CODE FOR TRAINING THE MODEL - ABOVE ALL THE CODE USED FOR CLEANING AND SPLITTING THE DATA FOR THE PROCESSING "
   ]
  },
  {
   "cell_type": "code",
   "execution_count": null,
   "metadata": {
    "id": "RsxmmwozmCSG"
   },
   "outputs": [],
   "source": [
    "def generate_accuracy(model, x, y):\n",
    "#     cm = confusion_matrix(y,model.predict(x))\n",
    "#     sns.heatmap(cm,annot=True,fmt=\"d\")\n",
    "    ac = accuracy_score(y,model.predict(x))\n",
    "    f_score = f1_score(y,model.predict(x))\n",
    "    print('Accuracy is: ', ac)\n",
    "    print('F1 score is: ', f_score)"
   ]
  },
  {
   "cell_type": "code",
   "execution_count": null,
   "metadata": {
    "colab": {
     "base_uri": "https://localhost:8080/",
     "height": 142
    },
    "id": "3ZQrfG59AET8",
    "outputId": "6fc56d2f-5450-425b-a7e3-4ddd1fd167b0"
   },
   "outputs": [
    {
     "data": {
      "text/html": [
       "<div>\n",
       "<style scoped>\n",
       "    .dataframe tbody tr th:only-of-type {\n",
       "        vertical-align: middle;\n",
       "    }\n",
       "\n",
       "    .dataframe tbody tr th {\n",
       "        vertical-align: top;\n",
       "    }\n",
       "\n",
       "    .dataframe thead th {\n",
       "        text-align: right;\n",
       "    }\n",
       "</style>\n",
       "<table border=\"1\" class=\"dataframe\">\n",
       "  <thead>\n",
       "    <tr style=\"text-align: right;\">\n",
       "      <th>Predicted</th>\n",
       "      <th>0</th>\n",
       "      <th>1</th>\n",
       "    </tr>\n",
       "    <tr>\n",
       "      <th>Actual</th>\n",
       "      <th></th>\n",
       "      <th></th>\n",
       "    </tr>\n",
       "  </thead>\n",
       "  <tbody>\n",
       "    <tr>\n",
       "      <th>0</th>\n",
       "      <td>12589</td>\n",
       "      <td>0</td>\n",
       "    </tr>\n",
       "    <tr>\n",
       "      <th>1</th>\n",
       "      <td>13</td>\n",
       "      <td>5</td>\n",
       "    </tr>\n",
       "  </tbody>\n",
       "</table>\n",
       "</div>"
      ],
      "text/plain": [
       "Predicted      0  1\n",
       "Actual             \n",
       "0          12589  0\n",
       "1             13  5"
      ]
     },
     "execution_count": 26,
     "metadata": {
      "tags": []
     },
     "output_type": "execute_result"
    }
   ],
   "source": [
    "from sklearn.ensemble import RandomForestClassifier\n",
    "classifier = RandomForestClassifier(n_estimators = 50)\n",
    "classifier.fit(X_train, y_train)\n",
    "y_pred = classifier.predict(X_test)\n",
    "# Confusion Matrix\n",
    "confusion_matrix = pd.crosstab(y_test, y_pred, rownames=['Actual'], colnames=['Predicted'])\n",
    "confusion_matrix"
   ]
  },
  {
   "cell_type": "code",
   "execution_count": null,
   "metadata": {
    "colab": {
     "base_uri": "https://localhost:8080/",
     "height": 51
    },
    "id": "SsDjS347EEF1",
    "outputId": "a219f5a5-e77e-4839-dd1a-f0986f4f3ac8"
   },
   "outputs": [
    {
     "name": "stdout",
     "output_type": "stream",
     "text": [
      "Accuracy is:  0.9990481478543666\n",
      "F1 score is:  0.6842105263157894\n"
     ]
    }
   ],
   "source": [
    "generate_accuracy(classifier, X_test, y_test)"
   ]
  },
  {
   "cell_type": "markdown",
   "metadata": {
    "id": "Pb_p_UbTPh7H"
   },
   "source": [
    "THE ABOVE PART IS TRAINING THE MODEL BASED ON THE DATASET THAT WAS PROVIDED TO US \n",
    "\n",
    "NOW THE PREDICTIONS MADE ARE SEND TO ANOTHER SYSTEM"
   ]
  },
  {
   "cell_type": "markdown",
   "metadata": {
    "id": "Ob0i27KdenJp"
   },
   "source": [
    "# Using y_pred - Which Was Made By Fitting The Model Is Now Used\n",
    "By Kushagra Bajpai\n"
   ]
  },
  {
   "cell_type": "code",
   "execution_count": null,
   "metadata": {
    "colab": {
     "base_uri": "https://localhost:8080/",
     "height": 35
    },
    "id": "tFtYI3_ShV1V",
    "outputId": "3af29275-be70-477a-f310-11dba90660b0"
   },
   "outputs": [
    {
     "data": {
      "text/plain": [
       "12607"
      ]
     },
     "execution_count": 21,
     "metadata": {
      "tags": []
     },
     "output_type": "execute_result"
    }
   ],
   "source": [
    "#TYPE OF DATA PRESENT IN Y_PREDICTIONS\n",
    "y_predictions=y_pred\n",
    "y_predictions.size"
   ]
  },
  {
   "cell_type": "code",
   "execution_count": null,
   "metadata": {
    "colab": {
     "base_uri": "https://localhost:8080/",
     "height": 35
    },
    "id": "r77YqcUYtF0N",
    "outputId": "bd38b7b0-3f79-4488-823f-823dd687a06d"
   },
   "outputs": [
    {
     "data": {
      "text/plain": [
       "12607"
      ]
     },
     "execution_count": 22,
     "metadata": {
      "tags": []
     },
     "output_type": "execute_result"
    }
   ],
   "source": [
    "type(y_test)\n",
    "y_test.size"
   ]
  },
  {
   "cell_type": "markdown",
   "metadata": {
    "id": "tW8l_4P-enJ3"
   },
   "source": [
    "## Downloading the predicted data as csv file"
   ]
  },
  {
   "cell_type": "code",
   "execution_count": null,
   "metadata": {
    "id": "wQqC7GqqenJ4"
   },
   "outputs": [],
   "source": [
    "np.savetxt(\"predictionsTrans.csv\", y_pred, delimiter=',')"
   ]
  }
 ],
 "metadata": {
  "colab": {
   "collapsed_sections": [],
   "name": "Copy of Transaction_Monitoring_Final.ipynb",
   "provenance": [],
   "toc_visible": true
  },
  "kernelspec": {
   "display_name": "Python 3 (ipykernel)",
   "language": "python",
   "name": "python3"
  },
  "language_info": {
   "codemirror_mode": {
    "name": "ipython",
    "version": 3
   },
   "file_extension": ".py",
   "mimetype": "text/x-python",
   "name": "python",
   "nbconvert_exporter": "python",
   "pygments_lexer": "ipython3",
   "version": "3.11.7"
  }
 },
 "nbformat": 4,
 "nbformat_minor": 4
}
